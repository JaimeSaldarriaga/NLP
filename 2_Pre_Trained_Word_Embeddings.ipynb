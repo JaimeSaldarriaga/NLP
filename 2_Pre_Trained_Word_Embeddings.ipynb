{
 "cells": [
  {
   "cell_type": "markdown",
   "metadata": {
    "id": "a5bkrz_obVSe"
   },
   "source": [
    "# <center> <font size = 24 color = 'steelblue'> <b> Pre-trained word embedding model from gensim"
   ]
  },
  {
   "cell_type": "markdown",
   "metadata": {
    "id": "wIDZixbAFVl6"
   },
   "source": [
    "<div class=\"alert alert-block alert-info\">\n",
    "    \n",
    "<font size = 4>\n",
    "    \n",
    "**This notebook demonstrates representation of text using pre-trained word embedding models.**"
   ]
  },
  {
   "cell_type": "markdown",
   "metadata": {
    "id": "iUsthbX9FVl7"
   },
   "source": [
    "# <a id= 'w0'>\n",
    "<font size = 4>\n",
    "    \n",
    "**Table of contents:**<br>\n",
    "[1. Installation and import of necessary packages](#w1)<br>\n",
    "[2. Model implementation](#w2)<br>\n",
    "[3. Load the embedding model](#w3)<br>\n",
    "\n",
    "    "
   ]
  },
  {
   "cell_type": "markdown",
   "metadata": {
    "id": "z89NDA-ToPnT"
   },
   "source": [
    "<font size =5 color = 'seagreen'>\n",
    "    \n",
    "Using a pre-trained word2vec model to look for most similar words.\n",
    "    \n",
    "<b>For this demonstration, `Google News vectors embeddings` are used."
   ]
  },
  {
   "cell_type": "markdown",
   "metadata": {
    "id": "Y3mjPTw1bVSk",
    "tags": []
   },
   "source": [
    "##### <a id = 'w1'>\n",
    "<font size = 10 color = 'midnightblue'> <b>Installation and import of necessary packages"
   ]
  },
  {
   "cell_type": "code",
   "execution_count": 1,
   "metadata": {
    "colab": {
     "base_uri": "https://localhost:8080/"
    },
    "id": "M67YxxILbVSk",
    "outputId": "7f1de204-f7a6-40d7-b438-b4de7c27fdf8",
    "tags": []
   },
   "outputs": [
    {
     "name": "stdout",
     "output_type": "stream",
     "text": [
      "Defaulting to user installation because normal site-packages is not writeable\n",
      "Requirement already satisfied: scikit-learn in /voc/work/.local/lib/python3.10/site-packages (1.7.2)\n",
      "Requirement already satisfied: numpy>=1.22.0 in /usr/local/lib/python3.10/site-packages (from scikit-learn) (1.23.5)\n",
      "Requirement already satisfied: scipy>=1.8.0 in /usr/local/lib/python3.10/site-packages (from scikit-learn) (1.9.3)\n",
      "Requirement already satisfied: joblib>=1.2.0 in /usr/local/lib/python3.10/site-packages (from scikit-learn) (1.2.0)\n",
      "Requirement already satisfied: threadpoolctl>=3.1.0 in /usr/local/lib/python3.10/site-packages (from scikit-learn) (3.1.0)\n",
      "Defaulting to user installation because normal site-packages is not writeable\n",
      "Requirement already satisfied: gensim in /usr/local/lib/python3.10/site-packages (4.2.0)\n",
      "Requirement already satisfied: numpy>=1.17.0 in /usr/local/lib/python3.10/site-packages (from gensim) (1.23.5)\n",
      "Requirement already satisfied: scipy>=0.18.1 in /usr/local/lib/python3.10/site-packages (from gensim) (1.9.3)\n",
      "Requirement already satisfied: smart-open>=1.8.1 in /usr/local/lib/python3.10/site-packages (from gensim) (6.0.0)\n",
      "Defaulting to user installation because normal site-packages is not writeable\n",
      "Requirement already satisfied: spacy in /usr/local/lib/python3.10/site-packages (3.5.1)\n",
      "Requirement already satisfied: spacy-legacy<3.1.0,>=3.0.11 in /usr/local/lib/python3.10/site-packages (from spacy) (3.0.12)\n",
      "Requirement already satisfied: spacy-loggers<2.0.0,>=1.0.0 in /usr/local/lib/python3.10/site-packages (from spacy) (1.0.2)\n",
      "Requirement already satisfied: murmurhash<1.1.0,>=0.28.0 in /usr/local/lib/python3.10/site-packages (from spacy) (1.0.7)\n",
      "Requirement already satisfied: cymem<2.1.0,>=2.0.2 in /usr/local/lib/python3.10/site-packages (from spacy) (2.0.6)\n",
      "Requirement already satisfied: preshed<3.1.0,>=3.0.2 in /usr/local/lib/python3.10/site-packages (from spacy) (3.0.6)\n",
      "Requirement already satisfied: thinc<8.2.0,>=8.1.8 in /usr/local/lib/python3.10/site-packages (from spacy) (8.1.9)\n",
      "Requirement already satisfied: wasabi<1.2.0,>=0.9.1 in /usr/local/lib/python3.10/site-packages (from spacy) (0.9.1)\n",
      "Requirement already satisfied: srsly<3.0.0,>=2.4.3 in /usr/local/lib/python3.10/site-packages (from spacy) (2.4.3)\n",
      "Requirement already satisfied: catalogue<2.1.0,>=2.0.6 in /usr/local/lib/python3.10/site-packages (from spacy) (2.0.7)\n",
      "Requirement already satisfied: typer<0.8.0,>=0.3.0 in /usr/local/lib/python3.10/site-packages (from spacy) (0.4.1)\n",
      "Requirement already satisfied: pathy>=0.10.0 in /usr/local/lib/python3.10/site-packages (from spacy) (0.10.1)\n",
      "Requirement already satisfied: smart-open<7.0.0,>=5.2.1 in /usr/local/lib/python3.10/site-packages (from spacy) (6.0.0)\n",
      "Requirement already satisfied: tqdm<5.0.0,>=4.38.0 in /usr/local/lib/python3.10/site-packages (from spacy) (4.64.0)\n",
      "Requirement already satisfied: numpy>=1.15.0 in /usr/local/lib/python3.10/site-packages (from spacy) (1.23.5)\n",
      "Requirement already satisfied: requests<3.0.0,>=2.13.0 in /usr/local/lib/python3.10/site-packages (from spacy) (2.28.1)\n",
      "Requirement already satisfied: pydantic!=1.8,!=1.8.1,<1.11.0,>=1.7.4 in /usr/local/lib/python3.10/site-packages (from spacy) (1.10.8)\n",
      "Requirement already satisfied: jinja2 in /usr/local/lib/python3.10/site-packages (from spacy) (3.1.2)\n",
      "Requirement already satisfied: setuptools in /usr/local/lib/python3.10/site-packages (from spacy) (58.1.0)\n",
      "Requirement already satisfied: packaging>=20.0 in /usr/local/lib/python3.10/site-packages (from spacy) (22.0)\n",
      "Requirement already satisfied: langcodes<4.0.0,>=3.2.0 in /usr/local/lib/python3.10/site-packages (from spacy) (3.3.0)\n",
      "Requirement already satisfied: typing-extensions>=4.2.0 in /voc/work/.local/lib/python3.10/site-packages (from pydantic!=1.8,!=1.8.1,<1.11.0,>=1.7.4->spacy) (4.5.0)\n",
      "Requirement already satisfied: charset-normalizer<3,>=2 in /usr/local/lib/python3.10/site-packages (from requests<3.0.0,>=2.13.0->spacy) (2.1.0)\n",
      "Requirement already satisfied: idna<4,>=2.5 in /usr/local/lib/python3.10/site-packages (from requests<3.0.0,>=2.13.0->spacy) (3.3)\n",
      "Requirement already satisfied: urllib3<1.27,>=1.21.1 in /usr/local/lib/python3.10/site-packages (from requests<3.0.0,>=2.13.0->spacy) (1.26.9)\n",
      "Requirement already satisfied: certifi>=2017.4.17 in /usr/local/lib/python3.10/site-packages (from requests<3.0.0,>=2.13.0->spacy) (2022.6.15)\n",
      "Requirement already satisfied: blis<0.8.0,>=0.7.8 in /usr/local/lib/python3.10/site-packages (from thinc<8.2.0,>=8.1.8->spacy) (0.7.9)\n",
      "Requirement already satisfied: confection<1.0.0,>=0.0.1 in /usr/local/lib/python3.10/site-packages (from thinc<8.2.0,>=8.1.8->spacy) (0.0.4)\n",
      "Requirement already satisfied: click<9.0.0,>=7.1.1 in /usr/local/lib/python3.10/site-packages (from typer<0.8.0,>=0.3.0->spacy) (8.1.3)\n",
      "Requirement already satisfied: MarkupSafe>=2.0 in /usr/local/lib/python3.10/site-packages (from jinja2->spacy) (2.1.1)\n",
      "/usr/local/venvs/jupyter/bin/python: No module named spacy\n"
     ]
    }
   ],
   "source": [
    "!pip install scikit-learn\n",
    "!pip install gensim\n",
    "!pip install spacy\n",
    "!python -m spacy download en_core_web_md"
   ]
  },
  {
   "cell_type": "markdown",
   "metadata": {
    "id": "qHiGZuZJbVSm"
   },
   "source": [
    " <font size =5 color = 'seagreen'> <b> Import packages"
   ]
  },
  {
   "cell_type": "code",
   "execution_count": 2,
   "metadata": {
    "ExecuteTime": {
     "end_time": "2021-04-03T11:45:44.132578Z",
     "start_time": "2021-04-03T11:45:44.115562Z"
    },
    "id": "FTpzLd6dvB6Q",
    "tags": []
   },
   "outputs": [
    {
     "name": "stderr",
     "output_type": "stream",
     "text": [
      "2025-09-24 19:01:31.572865: I tensorflow/core/util/port.cc:110] oneDNN custom operations are on. You may see slightly different numerical results due to floating-point round-off errors from different computation orders. To turn them off, set the environment variable `TF_ENABLE_ONEDNN_OPTS=0`.\n",
      "2025-09-24 19:01:31.613532: I tensorflow/core/platform/cpu_feature_guard.cc:182] This TensorFlow binary is optimized to use available CPU instructions in performance-critical operations.\n",
      "To enable the following instructions: AVX2 AVX512F AVX512_VNNI FMA, in other operations, rebuild TensorFlow with the appropriate compiler flags.\n"
     ]
    },
    {
     "name": "stdout",
     "output_type": "stream",
     "text": [
      "VOC-NOTICE: GPU memory for this assignment is capped at 1024MiB\n"
     ]
    },
    {
     "name": "stderr",
     "output_type": "stream",
     "text": [
      "2025-09-24 19:01:33.514298: E tensorflow/compiler/xla/stream_executor/cuda/cuda_driver.cc:268] failed call to cuInit: CUDA_ERROR_NO_DEVICE: no CUDA-capable device is detected\n"
     ]
    }
   ],
   "source": [
    "import os\n",
    "from gensim.models import Word2Vec, KeyedVectors\n",
    "\n",
    "# To suppress warnings\n",
    "import warnings #This module ignores the various types of warnings generated\n",
    "warnings.filterwarnings(\"ignore\")\n",
    "\n",
    "import spacy"
   ]
  },
  {
   "cell_type": "markdown",
   "metadata": {
    "id": "FywZC1sWFVl9"
   },
   "source": [
    "[top](#w0)"
   ]
  },
  {
   "cell_type": "markdown",
   "metadata": {
    "id": "yHsoqTFsbVSn",
    "tags": []
   },
   "source": [
    " ##### <a id = 'w2'>\n",
    "<font size = 10 color = 'midnightblue'> <b>  Model implementation"
   ]
  },
  {
   "cell_type": "markdown",
   "metadata": {
    "id": "citHyxUNFVl9",
    "tags": []
   },
   "source": [
    "<font size = 5 color = pwdrblue> <b> Get the word embeddings"
   ]
  },
  {
   "cell_type": "code",
   "execution_count": 3,
   "metadata": {
    "id": "8E5SSm2ybVSn",
    "tags": []
   },
   "outputs": [],
   "source": [
    "path = os.getcwd()\n",
    "file_name = 'GoogleNews-vectors-negative300.zip.gz'\n",
    "pretrained_path = path + '/' + file_name"
   ]
  },
  {
   "cell_type": "code",
   "execution_count": 4,
   "metadata": {},
   "outputs": [
    {
     "name": "stdout",
     "output_type": "stream",
     "text": [
      "Dataset downloaded to: /voc/work/.cache/kagglehub/datasets/leadbest/googlenewsvectorsnegative300/versions/2\n",
      "Loading model from: /voc/work/.cache/kagglehub/datasets/leadbest/googlenewsvectorsnegative300/versions/2/GoogleNews-vectors-negative300.bin.gz\n"
     ]
    }
   ],
   "source": [
    "import os\n",
    "import kagglehub\n",
    "from gensim.models import KeyedVectors\n",
    "\n",
    "download_path = kagglehub.dataset_download(\"leadbest/googlenewsvectorsnegative300\")\n",
    "print(f\"Dataset downloaded to: {download_path}\")\n",
    "\n",
    "model_file = 'GoogleNews-vectors-negative300.bin.gz'\n",
    "pretrained_path = os.path.join(download_path, model_file)\n",
    "\n",
    "print(f\"Loading model from: {pretrained_path}\")\n",
    "\n",
    "\n"
   ]
  },
  {
   "cell_type": "markdown",
   "metadata": {
    "id": "njRGBVo-bVSo"
   },
   "source": [
    "<font size = 5 color = pwdrblue> <b> Load the model"
   ]
  },
  {
   "cell_type": "code",
   "execution_count": 5,
   "metadata": {
    "id": "7ceqoIwsbVSo",
    "tags": []
   },
   "outputs": [
    {
     "name": "stdout",
     "output_type": "stream",
     "text": [
      "Model loaded successfully! 🎉\n"
     ]
    }
   ],
   "source": [
    "w2v_model = KeyedVectors.load_word2vec_format(pretrained_path, binary=True)\n",
    "\n",
    "print(\"Model loaded successfully! 🎉\")"
   ]
  },
  {
   "cell_type": "markdown",
   "metadata": {
    "id": "PKLHtMpPbVSp"
   },
   "source": [
    "<font size = 5 color = pwdrblue> <b> Check number of words in vocabulary"
   ]
  },
  {
   "cell_type": "code",
   "execution_count": 6,
   "metadata": {
    "colab": {
     "base_uri": "https://localhost:8080/"
    },
    "id": "HE4PlWlBbVSp",
    "outputId": "f74f60df-c572-4b40-df11-67846adafb7c",
    "tags": []
   },
   "outputs": [
    {
     "name": "stdout",
     "output_type": "stream",
     "text": [
      "Number of words in vocabulary:  3000000\n"
     ]
    }
   ],
   "source": [
    "print(\"Number of words in vocabulary: \",len(w2v_model.index_to_key)) #Number of words in the vocabulary."
   ]
  },
  {
   "cell_type": "code",
   "execution_count": 7,
   "metadata": {
    "colab": {
     "base_uri": "https://localhost:8080/"
    },
    "id": "zHa5kXYCbVSp",
    "outputId": "d459298d-54bc-446d-cfc7-916b8a13bb9c",
    "tags": []
   },
   "outputs": [
    {
     "name": "stdout",
     "output_type": "stream",
     "text": [
      "First few words of the vocabulary :\n",
      "['</s>', 'in', 'for', 'that', 'is', 'on', '##', 'The', 'with', 'said', 'was', 'the', 'at', 'not', 'as', 'it', 'be', 'from', 'by', 'are']\n"
     ]
    }
   ],
   "source": [
    "print(f\"First few words of the vocabulary :\\n{ w2v_model.index_to_key[:20]}\")"
   ]
  },
  {
   "cell_type": "markdown",
   "metadata": {
    "id": "wb-rFKMzbVSp"
   },
   "source": [
    "<font size = 5 color = pwdrblue> <b> Examine the model to extract most similar words for a given word like `joyful`, `solid`"
   ]
  },
  {
   "cell_type": "code",
   "execution_count": 8,
   "metadata": {
    "ExecuteTime": {
     "end_time": "2021-04-03T11:46:29.336184Z",
     "start_time": "2021-04-03T11:46:26.529524Z"
    },
    "colab": {
     "base_uri": "https://localhost:8080/"
    },
    "id": "ZhJ_488PoPnr",
    "outputId": "424fc362-bddf-4998-b354-510907b6e1aa",
    "tags": []
   },
   "outputs": [
    {
     "data": {
      "text/plain": [
       "[('joyous', 0.818248987197876),\n",
       " ('Besnik_Berisha_Pristina', 0.6848508715629578),\n",
       " ('joy', 0.6633967757225037),\n",
       " ('joyousness', 0.6440029740333557),\n",
       " ('exuberant', 0.6130944490432739),\n",
       " ('uplifting', 0.593187153339386),\n",
       " ('old_demonstrator_Juliya', 0.592427134513855),\n",
       " ('sorrowful', 0.5822992324829102),\n",
       " ('cheerful', 0.5811519026756287),\n",
       " ('indescribable_joy', 0.581040620803833)]"
      ]
     },
     "execution_count": 8,
     "metadata": {},
     "output_type": "execute_result"
    }
   ],
   "source": [
    "w2v_model.most_similar('joyful')"
   ]
  },
  {
   "cell_type": "code",
   "execution_count": 9,
   "metadata": {
    "ExecuteTime": {
     "end_time": "2021-04-03T11:46:29.509126Z",
     "start_time": "2021-04-03T11:46:29.337187Z"
    },
    "colab": {
     "base_uri": "https://localhost:8080/"
    },
    "id": "G1Or5oG5oPn1",
    "outputId": "7b062723-fc1b-4315-dff8-486d462bf795",
    "tags": []
   },
   "outputs": [
    {
     "data": {
      "text/plain": [
       "[('travel', 0.6577276587486267),\n",
       " ('Adventure_Travel', 0.636359453201294),\n",
       " ('Travel_Agent', 0.608870804309845),\n",
       " ('Aol_Autos', 0.5961860418319702),\n",
       " ('Destinations', 0.5935966968536377),\n",
       " ('Vacations', 0.5759146213531494),\n",
       " ('Vantage_Deluxe', 0.573976993560791),\n",
       " ('Travel_Destinations', 0.5731626152992249),\n",
       " ('Travel_Agents', 0.5724309086799622),\n",
       " ('Escorted_Tours', 0.557145893573761)]"
      ]
     },
     "execution_count": 9,
     "metadata": {},
     "output_type": "execute_result"
    }
   ],
   "source": [
    "w2v_model.most_similar('Travel')"
   ]
  },
  {
   "cell_type": "code",
   "execution_count": 10,
   "metadata": {
    "colab": {
     "base_uri": "https://localhost:8080/"
    },
    "id": "ojZH2zXjbVSq",
    "outputId": "3246e881-4607-471c-a144-578aff223c5b",
    "tags": []
   },
   "outputs": [
    {
     "data": {
      "text/plain": [
       "[('traveling', 0.6823130249977112),\n",
       " ('Travel', 0.6577276587486267),\n",
       " ('travelers', 0.5849088430404663),\n",
       " ('trips', 0.5770835280418396),\n",
       " ('travels', 0.5704988241195679),\n",
       " ('trip', 0.569098174571991),\n",
       " ('journeys', 0.5535728335380554),\n",
       " ('airfare', 0.5398489832878113),\n",
       " ('Travelling', 0.5369202494621277),\n",
       " ('Traveling', 0.5305294394493103)]"
      ]
     },
     "execution_count": 10,
     "metadata": {},
     "output_type": "execute_result"
    }
   ],
   "source": [
    "w2v_model.most_similar('travel')"
   ]
  },
  {
   "cell_type": "markdown",
   "metadata": {
    "id": "ABtIhX08bVSr"
   },
   "source": [
    "<div class=\"alert alert-block alert-success\">\n",
    "<font size = 4>\n",
    "    \n",
    "<center><b> Error occurred because the word is not present in the vocabulary.</b>\n"
   ]
  },
  {
   "cell_type": "markdown",
   "metadata": {
    "id": "H2Vy8qR8bVSr"
   },
   "source": [
    "<font size = 5 color = seagreen> <b> The below snippet can be used to manage the error and check similarity for multiple words:"
   ]
  },
  {
   "cell_type": "code",
   "execution_count": null,
   "metadata": {
    "colab": {
     "base_uri": "https://localhost:8080/"
    },
    "id": "Q_Wk89c0bVSr",
    "outputId": "77b37ffd-a779-4b9d-f73d-445b209dc989",
    "tags": []
   },
   "outputs": [],
   "source": [
    "inp = \"y\"\n",
    "while inp.lower() == 'y':\n",
    "    word = input(\"Enter a word to get similar words: \")\n",
    "    try :\n",
    "        print(f\"Most similar words to '{word}' :\\n\")\n",
    "        for t in w2v_model.most_similar(word):\n",
    "            print(t)\n",
    "        print('\\n')\n",
    "    except :\n",
    "        print('Word does not exists in vocabulary!')\n",
    "    inp = input(\"Do you want to continue? (Y/N) : \")\n"
   ]
  },
  {
   "cell_type": "markdown",
   "metadata": {
    "id": "X9qhi6UmbVSr",
    "tags": []
   },
   "source": [
    "<font size = 5 color = pwdrblue> <b>  Get the word vector of any term"
   ]
  },
  {
   "cell_type": "code",
   "execution_count": null,
   "metadata": {
    "ExecuteTime": {
     "end_time": "2021-04-03T11:46:30.275722Z",
     "start_time": "2021-04-03T11:46:30.266713Z"
    },
    "colab": {
     "base_uri": "https://localhost:8080/"
    },
    "id": "rtQiYOR9oPn_",
    "outputId": "2bc507b6-c546-49ad-a1b5-789d1e6b86ec",
    "tags": []
   },
   "outputs": [],
   "source": [
    "w2v_model['beautiful']"
   ]
  },
  {
   "cell_type": "markdown",
   "metadata": {
    "id": "S8BIHwnvbVSr"
   },
   "source": [
    "<font size = 5 color = pwdrblue> <b>  Get the embeddings for a complete text"
   ]
  },
  {
   "cell_type": "markdown",
   "metadata": {
    "id": "WLtL5qIHFVl-"
   },
   "source": [
    "<div class=\"alert alert-block alert-success\">\n",
    "<font size = 4>\n",
    "    \n",
    "- A simple way is to just sum or average the embeddings for individual words.\n",
    "- Let us see a small example using another NLP library Spacy"
   ]
  },
  {
   "cell_type": "markdown",
   "metadata": {
    "id": "FnleQzlhFVl-",
    "tags": []
   },
   "source": [
    "[top](#w0)"
   ]
  },
  {
   "cell_type": "markdown",
   "metadata": {
    "id": "gKVD-NWRbVSs"
   },
   "source": [
    " ##### <a id = 'w3'>\n",
    "<font size = 10 color = 'midnightblue'> <b> Load the embedding model"
   ]
  },
  {
   "cell_type": "code",
   "execution_count": null,
   "metadata": {
    "id": "OVkHPOxSbVSs",
    "tags": []
   },
   "outputs": [],
   "source": [
    "# Load the english embedding\n",
    "nlp = spacy.load('en_core_web_md')"
   ]
  },
  {
   "cell_type": "code",
   "execution_count": null,
   "metadata": {
    "colab": {
     "base_uri": "https://localhost:8080/"
    },
    "id": "Axetn20PbVSs",
    "outputId": "ca77a7f4-0c63-491b-fa9c-8db24d039b00",
    "tags": []
   },
   "outputs": [],
   "source": [
    "# Create a model object\n",
    "mydoc = nlp(\"Artificial intelligence revolutionizes industries by enhancing automation and decision-making.\")\n",
    "\n",
    "# Get the averaged vector for the entire sentence\n",
    "print(mydoc.vector)"
   ]
  }
 ],
 "metadata": {
  "accelerator": "GPU",
  "colab": {
   "gpuType": "T4",
   "provenance": []
  },
  "kernelspec": {
   "display_name": "Python 3 [3.10]",
   "language": "python",
   "name": "python3"
  },
  "language_info": {
   "codemirror_mode": {
    "name": "ipython",
    "version": 3
   },
   "file_extension": ".py",
   "mimetype": "text/x-python",
   "name": "python",
   "nbconvert_exporter": "python",
   "pygments_lexer": "ipython3",
   "version": "3.10.2"
  }
 },
 "nbformat": 4,
 "nbformat_minor": 4
}
