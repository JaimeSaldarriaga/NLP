{
  "cells": [
    {
      "cell_type": "markdown",
      "metadata": {
        "id": "a5bkrz_obVSe"
      },
      "source": [
        "# <center> <font size = 24 color = 'steelblue'> <b> Pre-trained word embedding model from gensim"
      ]
    },
    {
      "cell_type": "markdown",
      "metadata": {
        "id": "wIDZixbAFVl6"
      },
      "source": [
        "<div class=\"alert alert-block alert-info\">\n",
        "    \n",
        "<font size = 4>\n",
        "    \n",
        "**This notebook demonstrates representation of text using pre-trained word embedding models.**"
      ]
    },
    {
      "cell_type": "markdown",
      "metadata": {
        "id": "iUsthbX9FVl7"
      },
      "source": [
        "# <a id= 'w0'>\n",
        "<font size = 4>\n",
        "    \n",
        "**Table of contents:**<br>\n",
        "[1. Installation and import of necessary packages](#w1)<br>\n",
        "[2. Model implementation](#w2)<br>\n",
        "[3. Load the embedding model](#w3)<br>\n",
        "\n",
        "    "
      ]
    },
    {
      "cell_type": "markdown",
      "metadata": {
        "id": "z89NDA-ToPnT"
      },
      "source": [
        "<font size =5 color = 'seagreen'>\n",
        "    \n",
        "Using a pre-trained word2vec model to look for most similar words.\n",
        "    \n",
        "<b>For this demonstration, `Google News vectors embeddings` are used."
      ]
    },
    {
      "cell_type": "markdown",
      "metadata": {
        "id": "Y3mjPTw1bVSk",
        "tags": []
      },
      "source": [
        "##### <a id = 'w1'>\n",
        "<font size = 10 color = 'midnightblue'> <b>Installation and import of necessary packages"
      ]
    },
    {
      "cell_type": "code",
      "execution_count": 1,
      "metadata": {
        "id": "M67YxxILbVSk",
        "tags": [],
        "colab": {
          "base_uri": "https://localhost:8080/"
        },
        "outputId": "7f1de204-f7a6-40d7-b438-b4de7c27fdf8"
      },
      "outputs": [
        {
          "output_type": "stream",
          "name": "stdout",
          "text": [
            "Requirement already satisfied: scikit-learn in /usr/local/lib/python3.10/dist-packages (1.3.2)\n",
            "Requirement already satisfied: numpy<2.0,>=1.17.3 in /usr/local/lib/python3.10/dist-packages (from scikit-learn) (1.26.4)\n",
            "Requirement already satisfied: scipy>=1.5.0 in /usr/local/lib/python3.10/dist-packages (from scikit-learn) (1.13.1)\n",
            "Requirement already satisfied: joblib>=1.1.1 in /usr/local/lib/python3.10/dist-packages (from scikit-learn) (1.4.2)\n",
            "Requirement already satisfied: threadpoolctl>=2.0.0 in /usr/local/lib/python3.10/dist-packages (from scikit-learn) (3.5.0)\n",
            "Requirement already satisfied: gensim in /usr/local/lib/python3.10/dist-packages (4.3.3)\n",
            "Requirement already satisfied: numpy<2.0,>=1.18.5 in /usr/local/lib/python3.10/dist-packages (from gensim) (1.26.4)\n",
            "Requirement already satisfied: scipy<1.14.0,>=1.7.0 in /usr/local/lib/python3.10/dist-packages (from gensim) (1.13.1)\n",
            "Requirement already satisfied: smart-open>=1.8.1 in /usr/local/lib/python3.10/dist-packages (from gensim) (7.0.4)\n",
            "Requirement already satisfied: wrapt in /usr/local/lib/python3.10/dist-packages (from smart-open>=1.8.1->gensim) (1.16.0)\n",
            "Requirement already satisfied: spacy in /usr/local/lib/python3.10/dist-packages (3.7.6)\n",
            "Requirement already satisfied: spacy-legacy<3.1.0,>=3.0.11 in /usr/local/lib/python3.10/dist-packages (from spacy) (3.0.12)\n",
            "Requirement already satisfied: spacy-loggers<2.0.0,>=1.0.0 in /usr/local/lib/python3.10/dist-packages (from spacy) (1.0.5)\n",
            "Requirement already satisfied: murmurhash<1.1.0,>=0.28.0 in /usr/local/lib/python3.10/dist-packages (from spacy) (1.0.10)\n",
            "Requirement already satisfied: cymem<2.1.0,>=2.0.2 in /usr/local/lib/python3.10/dist-packages (from spacy) (2.0.8)\n",
            "Requirement already satisfied: preshed<3.1.0,>=3.0.2 in /usr/local/lib/python3.10/dist-packages (from spacy) (3.0.9)\n",
            "Requirement already satisfied: thinc<8.3.0,>=8.2.2 in /usr/local/lib/python3.10/dist-packages (from spacy) (8.2.5)\n",
            "Requirement already satisfied: wasabi<1.2.0,>=0.9.1 in /usr/local/lib/python3.10/dist-packages (from spacy) (1.1.3)\n",
            "Requirement already satisfied: srsly<3.0.0,>=2.4.3 in /usr/local/lib/python3.10/dist-packages (from spacy) (2.4.8)\n",
            "Requirement already satisfied: catalogue<2.1.0,>=2.0.6 in /usr/local/lib/python3.10/dist-packages (from spacy) (2.0.10)\n",
            "Requirement already satisfied: weasel<0.5.0,>=0.1.0 in /usr/local/lib/python3.10/dist-packages (from spacy) (0.4.1)\n",
            "Requirement already satisfied: typer<1.0.0,>=0.3.0 in /usr/local/lib/python3.10/dist-packages (from spacy) (0.12.5)\n",
            "Requirement already satisfied: tqdm<5.0.0,>=4.38.0 in /usr/local/lib/python3.10/dist-packages (from spacy) (4.66.5)\n",
            "Requirement already satisfied: requests<3.0.0,>=2.13.0 in /usr/local/lib/python3.10/dist-packages (from spacy) (2.32.3)\n",
            "Requirement already satisfied: pydantic!=1.8,!=1.8.1,<3.0.0,>=1.7.4 in /usr/local/lib/python3.10/dist-packages (from spacy) (2.8.2)\n",
            "Requirement already satisfied: jinja2 in /usr/local/lib/python3.10/dist-packages (from spacy) (3.1.4)\n",
            "Requirement already satisfied: setuptools in /usr/local/lib/python3.10/dist-packages (from spacy) (71.0.4)\n",
            "Requirement already satisfied: packaging>=20.0 in /usr/local/lib/python3.10/dist-packages (from spacy) (24.1)\n",
            "Requirement already satisfied: langcodes<4.0.0,>=3.2.0 in /usr/local/lib/python3.10/dist-packages (from spacy) (3.4.0)\n",
            "Requirement already satisfied: numpy>=1.19.0 in /usr/local/lib/python3.10/dist-packages (from spacy) (1.26.4)\n",
            "Requirement already satisfied: language-data>=1.2 in /usr/local/lib/python3.10/dist-packages (from langcodes<4.0.0,>=3.2.0->spacy) (1.2.0)\n",
            "Requirement already satisfied: annotated-types>=0.4.0 in /usr/local/lib/python3.10/dist-packages (from pydantic!=1.8,!=1.8.1,<3.0.0,>=1.7.4->spacy) (0.7.0)\n",
            "Requirement already satisfied: pydantic-core==2.20.1 in /usr/local/lib/python3.10/dist-packages (from pydantic!=1.8,!=1.8.1,<3.0.0,>=1.7.4->spacy) (2.20.1)\n",
            "Requirement already satisfied: typing-extensions>=4.6.1 in /usr/local/lib/python3.10/dist-packages (from pydantic!=1.8,!=1.8.1,<3.0.0,>=1.7.4->spacy) (4.12.2)\n",
            "Requirement already satisfied: charset-normalizer<4,>=2 in /usr/local/lib/python3.10/dist-packages (from requests<3.0.0,>=2.13.0->spacy) (3.3.2)\n",
            "Requirement already satisfied: idna<4,>=2.5 in /usr/local/lib/python3.10/dist-packages (from requests<3.0.0,>=2.13.0->spacy) (3.8)\n",
            "Requirement already satisfied: urllib3<3,>=1.21.1 in /usr/local/lib/python3.10/dist-packages (from requests<3.0.0,>=2.13.0->spacy) (2.0.7)\n",
            "Requirement already satisfied: certifi>=2017.4.17 in /usr/local/lib/python3.10/dist-packages (from requests<3.0.0,>=2.13.0->spacy) (2024.8.30)\n",
            "Requirement already satisfied: blis<0.8.0,>=0.7.8 in /usr/local/lib/python3.10/dist-packages (from thinc<8.3.0,>=8.2.2->spacy) (0.7.11)\n",
            "Requirement already satisfied: confection<1.0.0,>=0.0.1 in /usr/local/lib/python3.10/dist-packages (from thinc<8.3.0,>=8.2.2->spacy) (0.1.5)\n",
            "Requirement already satisfied: click>=8.0.0 in /usr/local/lib/python3.10/dist-packages (from typer<1.0.0,>=0.3.0->spacy) (8.1.7)\n",
            "Requirement already satisfied: shellingham>=1.3.0 in /usr/local/lib/python3.10/dist-packages (from typer<1.0.0,>=0.3.0->spacy) (1.5.4)\n",
            "Requirement already satisfied: rich>=10.11.0 in /usr/local/lib/python3.10/dist-packages (from typer<1.0.0,>=0.3.0->spacy) (13.8.0)\n",
            "Requirement already satisfied: cloudpathlib<1.0.0,>=0.7.0 in /usr/local/lib/python3.10/dist-packages (from weasel<0.5.0,>=0.1.0->spacy) (0.19.0)\n",
            "Requirement already satisfied: smart-open<8.0.0,>=5.2.1 in /usr/local/lib/python3.10/dist-packages (from weasel<0.5.0,>=0.1.0->spacy) (7.0.4)\n",
            "Requirement already satisfied: MarkupSafe>=2.0 in /usr/local/lib/python3.10/dist-packages (from jinja2->spacy) (2.1.5)\n",
            "Requirement already satisfied: marisa-trie>=0.7.7 in /usr/local/lib/python3.10/dist-packages (from language-data>=1.2->langcodes<4.0.0,>=3.2.0->spacy) (1.2.0)\n",
            "Requirement already satisfied: markdown-it-py>=2.2.0 in /usr/local/lib/python3.10/dist-packages (from rich>=10.11.0->typer<1.0.0,>=0.3.0->spacy) (3.0.0)\n",
            "Requirement already satisfied: pygments<3.0.0,>=2.13.0 in /usr/local/lib/python3.10/dist-packages (from rich>=10.11.0->typer<1.0.0,>=0.3.0->spacy) (2.16.1)\n",
            "Requirement already satisfied: wrapt in /usr/local/lib/python3.10/dist-packages (from smart-open<8.0.0,>=5.2.1->weasel<0.5.0,>=0.1.0->spacy) (1.16.0)\n",
            "Requirement already satisfied: mdurl~=0.1 in /usr/local/lib/python3.10/dist-packages (from markdown-it-py>=2.2.0->rich>=10.11.0->typer<1.0.0,>=0.3.0->spacy) (0.1.2)\n",
            "Collecting en-core-web-md==3.7.1\n",
            "  Downloading https://github.com/explosion/spacy-models/releases/download/en_core_web_md-3.7.1/en_core_web_md-3.7.1-py3-none-any.whl (42.8 MB)\n",
            "\u001b[2K     \u001b[90m━━━━━━━━━━━━━━━━━━━━━━━━━━━━━━━━━━━━━━━━\u001b[0m \u001b[32m42.8/42.8 MB\u001b[0m \u001b[31m19.5 MB/s\u001b[0m eta \u001b[36m0:00:00\u001b[0m\n",
            "\u001b[?25hRequirement already satisfied: spacy<3.8.0,>=3.7.2 in /usr/local/lib/python3.10/dist-packages (from en-core-web-md==3.7.1) (3.7.6)\n",
            "Requirement already satisfied: spacy-legacy<3.1.0,>=3.0.11 in /usr/local/lib/python3.10/dist-packages (from spacy<3.8.0,>=3.7.2->en-core-web-md==3.7.1) (3.0.12)\n",
            "Requirement already satisfied: spacy-loggers<2.0.0,>=1.0.0 in /usr/local/lib/python3.10/dist-packages (from spacy<3.8.0,>=3.7.2->en-core-web-md==3.7.1) (1.0.5)\n",
            "Requirement already satisfied: murmurhash<1.1.0,>=0.28.0 in /usr/local/lib/python3.10/dist-packages (from spacy<3.8.0,>=3.7.2->en-core-web-md==3.7.1) (1.0.10)\n",
            "Requirement already satisfied: cymem<2.1.0,>=2.0.2 in /usr/local/lib/python3.10/dist-packages (from spacy<3.8.0,>=3.7.2->en-core-web-md==3.7.1) (2.0.8)\n",
            "Requirement already satisfied: preshed<3.1.0,>=3.0.2 in /usr/local/lib/python3.10/dist-packages (from spacy<3.8.0,>=3.7.2->en-core-web-md==3.7.1) (3.0.9)\n",
            "Requirement already satisfied: thinc<8.3.0,>=8.2.2 in /usr/local/lib/python3.10/dist-packages (from spacy<3.8.0,>=3.7.2->en-core-web-md==3.7.1) (8.2.5)\n",
            "Requirement already satisfied: wasabi<1.2.0,>=0.9.1 in /usr/local/lib/python3.10/dist-packages (from spacy<3.8.0,>=3.7.2->en-core-web-md==3.7.1) (1.1.3)\n",
            "Requirement already satisfied: srsly<3.0.0,>=2.4.3 in /usr/local/lib/python3.10/dist-packages (from spacy<3.8.0,>=3.7.2->en-core-web-md==3.7.1) (2.4.8)\n",
            "Requirement already satisfied: catalogue<2.1.0,>=2.0.6 in /usr/local/lib/python3.10/dist-packages (from spacy<3.8.0,>=3.7.2->en-core-web-md==3.7.1) (2.0.10)\n",
            "Requirement already satisfied: weasel<0.5.0,>=0.1.0 in /usr/local/lib/python3.10/dist-packages (from spacy<3.8.0,>=3.7.2->en-core-web-md==3.7.1) (0.4.1)\n",
            "Requirement already satisfied: typer<1.0.0,>=0.3.0 in /usr/local/lib/python3.10/dist-packages (from spacy<3.8.0,>=3.7.2->en-core-web-md==3.7.1) (0.12.5)\n",
            "Requirement already satisfied: tqdm<5.0.0,>=4.38.0 in /usr/local/lib/python3.10/dist-packages (from spacy<3.8.0,>=3.7.2->en-core-web-md==3.7.1) (4.66.5)\n",
            "Requirement already satisfied: requests<3.0.0,>=2.13.0 in /usr/local/lib/python3.10/dist-packages (from spacy<3.8.0,>=3.7.2->en-core-web-md==3.7.1) (2.32.3)\n",
            "Requirement already satisfied: pydantic!=1.8,!=1.8.1,<3.0.0,>=1.7.4 in /usr/local/lib/python3.10/dist-packages (from spacy<3.8.0,>=3.7.2->en-core-web-md==3.7.1) (2.8.2)\n",
            "Requirement already satisfied: jinja2 in /usr/local/lib/python3.10/dist-packages (from spacy<3.8.0,>=3.7.2->en-core-web-md==3.7.1) (3.1.4)\n",
            "Requirement already satisfied: setuptools in /usr/local/lib/python3.10/dist-packages (from spacy<3.8.0,>=3.7.2->en-core-web-md==3.7.1) (71.0.4)\n",
            "Requirement already satisfied: packaging>=20.0 in /usr/local/lib/python3.10/dist-packages (from spacy<3.8.0,>=3.7.2->en-core-web-md==3.7.1) (24.1)\n",
            "Requirement already satisfied: langcodes<4.0.0,>=3.2.0 in /usr/local/lib/python3.10/dist-packages (from spacy<3.8.0,>=3.7.2->en-core-web-md==3.7.1) (3.4.0)\n",
            "Requirement already satisfied: numpy>=1.19.0 in /usr/local/lib/python3.10/dist-packages (from spacy<3.8.0,>=3.7.2->en-core-web-md==3.7.1) (1.26.4)\n",
            "Requirement already satisfied: language-data>=1.2 in /usr/local/lib/python3.10/dist-packages (from langcodes<4.0.0,>=3.2.0->spacy<3.8.0,>=3.7.2->en-core-web-md==3.7.1) (1.2.0)\n",
            "Requirement already satisfied: annotated-types>=0.4.0 in /usr/local/lib/python3.10/dist-packages (from pydantic!=1.8,!=1.8.1,<3.0.0,>=1.7.4->spacy<3.8.0,>=3.7.2->en-core-web-md==3.7.1) (0.7.0)\n",
            "Requirement already satisfied: pydantic-core==2.20.1 in /usr/local/lib/python3.10/dist-packages (from pydantic!=1.8,!=1.8.1,<3.0.0,>=1.7.4->spacy<3.8.0,>=3.7.2->en-core-web-md==3.7.1) (2.20.1)\n",
            "Requirement already satisfied: typing-extensions>=4.6.1 in /usr/local/lib/python3.10/dist-packages (from pydantic!=1.8,!=1.8.1,<3.0.0,>=1.7.4->spacy<3.8.0,>=3.7.2->en-core-web-md==3.7.1) (4.12.2)\n",
            "Requirement already satisfied: charset-normalizer<4,>=2 in /usr/local/lib/python3.10/dist-packages (from requests<3.0.0,>=2.13.0->spacy<3.8.0,>=3.7.2->en-core-web-md==3.7.1) (3.3.2)\n",
            "Requirement already satisfied: idna<4,>=2.5 in /usr/local/lib/python3.10/dist-packages (from requests<3.0.0,>=2.13.0->spacy<3.8.0,>=3.7.2->en-core-web-md==3.7.1) (3.8)\n",
            "Requirement already satisfied: urllib3<3,>=1.21.1 in /usr/local/lib/python3.10/dist-packages (from requests<3.0.0,>=2.13.0->spacy<3.8.0,>=3.7.2->en-core-web-md==3.7.1) (2.0.7)\n",
            "Requirement already satisfied: certifi>=2017.4.17 in /usr/local/lib/python3.10/dist-packages (from requests<3.0.0,>=2.13.0->spacy<3.8.0,>=3.7.2->en-core-web-md==3.7.1) (2024.8.30)\n",
            "Requirement already satisfied: blis<0.8.0,>=0.7.8 in /usr/local/lib/python3.10/dist-packages (from thinc<8.3.0,>=8.2.2->spacy<3.8.0,>=3.7.2->en-core-web-md==3.7.1) (0.7.11)\n",
            "Requirement already satisfied: confection<1.0.0,>=0.0.1 in /usr/local/lib/python3.10/dist-packages (from thinc<8.3.0,>=8.2.2->spacy<3.8.0,>=3.7.2->en-core-web-md==3.7.1) (0.1.5)\n",
            "Requirement already satisfied: click>=8.0.0 in /usr/local/lib/python3.10/dist-packages (from typer<1.0.0,>=0.3.0->spacy<3.8.0,>=3.7.2->en-core-web-md==3.7.1) (8.1.7)\n",
            "Requirement already satisfied: shellingham>=1.3.0 in /usr/local/lib/python3.10/dist-packages (from typer<1.0.0,>=0.3.0->spacy<3.8.0,>=3.7.2->en-core-web-md==3.7.1) (1.5.4)\n",
            "Requirement already satisfied: rich>=10.11.0 in /usr/local/lib/python3.10/dist-packages (from typer<1.0.0,>=0.3.0->spacy<3.8.0,>=3.7.2->en-core-web-md==3.7.1) (13.8.0)\n",
            "Requirement already satisfied: cloudpathlib<1.0.0,>=0.7.0 in /usr/local/lib/python3.10/dist-packages (from weasel<0.5.0,>=0.1.0->spacy<3.8.0,>=3.7.2->en-core-web-md==3.7.1) (0.19.0)\n",
            "Requirement already satisfied: smart-open<8.0.0,>=5.2.1 in /usr/local/lib/python3.10/dist-packages (from weasel<0.5.0,>=0.1.0->spacy<3.8.0,>=3.7.2->en-core-web-md==3.7.1) (7.0.4)\n",
            "Requirement already satisfied: MarkupSafe>=2.0 in /usr/local/lib/python3.10/dist-packages (from jinja2->spacy<3.8.0,>=3.7.2->en-core-web-md==3.7.1) (2.1.5)\n",
            "Requirement already satisfied: marisa-trie>=0.7.7 in /usr/local/lib/python3.10/dist-packages (from language-data>=1.2->langcodes<4.0.0,>=3.2.0->spacy<3.8.0,>=3.7.2->en-core-web-md==3.7.1) (1.2.0)\n",
            "Requirement already satisfied: markdown-it-py>=2.2.0 in /usr/local/lib/python3.10/dist-packages (from rich>=10.11.0->typer<1.0.0,>=0.3.0->spacy<3.8.0,>=3.7.2->en-core-web-md==3.7.1) (3.0.0)\n",
            "Requirement already satisfied: pygments<3.0.0,>=2.13.0 in /usr/local/lib/python3.10/dist-packages (from rich>=10.11.0->typer<1.0.0,>=0.3.0->spacy<3.8.0,>=3.7.2->en-core-web-md==3.7.1) (2.16.1)\n",
            "Requirement already satisfied: wrapt in /usr/local/lib/python3.10/dist-packages (from smart-open<8.0.0,>=5.2.1->weasel<0.5.0,>=0.1.0->spacy<3.8.0,>=3.7.2->en-core-web-md==3.7.1) (1.16.0)\n",
            "Requirement already satisfied: mdurl~=0.1 in /usr/local/lib/python3.10/dist-packages (from markdown-it-py>=2.2.0->rich>=10.11.0->typer<1.0.0,>=0.3.0->spacy<3.8.0,>=3.7.2->en-core-web-md==3.7.1) (0.1.2)\n",
            "Installing collected packages: en-core-web-md\n",
            "Successfully installed en-core-web-md-3.7.1\n",
            "\u001b[38;5;2m✔ Download and installation successful\u001b[0m\n",
            "You can now load the package via spacy.load('en_core_web_md')\n",
            "\u001b[38;5;3m⚠ Restart to reload dependencies\u001b[0m\n",
            "If you are in a Jupyter or Colab notebook, you may need to restart Python in\n",
            "order to load all the package's dependencies. You can do this by selecting the\n",
            "'Restart kernel' or 'Restart runtime' option.\n"
          ]
        }
      ],
      "source": [
        "!pip install scikit-learn\n",
        "!pip install gensim\n",
        "!pip install spacy\n",
        "!python -m spacy download en_core_web_md"
      ]
    },
    {
      "cell_type": "markdown",
      "metadata": {
        "id": "qHiGZuZJbVSm"
      },
      "source": [
        " <font size =5 color = 'seagreen'> <b> Import packages"
      ]
    },
    {
      "cell_type": "code",
      "execution_count": 2,
      "metadata": {
        "ExecuteTime": {
          "end_time": "2021-04-03T11:45:44.132578Z",
          "start_time": "2021-04-03T11:45:44.115562Z"
        },
        "id": "FTpzLd6dvB6Q",
        "tags": []
      },
      "outputs": [],
      "source": [
        "import os\n",
        "from gensim.models import Word2Vec, KeyedVectors\n",
        "\n",
        "# To suppress warnings\n",
        "import warnings #This module ignores the various types of warnings generated\n",
        "warnings.filterwarnings(\"ignore\")\n",
        "\n",
        "import spacy"
      ]
    },
    {
      "cell_type": "markdown",
      "metadata": {
        "id": "FywZC1sWFVl9"
      },
      "source": [
        "[top](#w0)"
      ]
    },
    {
      "cell_type": "markdown",
      "metadata": {
        "id": "yHsoqTFsbVSn",
        "tags": []
      },
      "source": [
        " ##### <a id = 'w2'>\n",
        "<font size = 10 color = 'midnightblue'> <b>  Model implementation"
      ]
    },
    {
      "cell_type": "markdown",
      "metadata": {
        "tags": [],
        "id": "citHyxUNFVl9"
      },
      "source": [
        "<font size = 5 color = pwdrblue> <b> Get the word embeddings"
      ]
    },
    {
      "cell_type": "code",
      "execution_count": 10,
      "metadata": {
        "id": "8E5SSm2ybVSn",
        "tags": []
      },
      "outputs": [],
      "source": [
        "path = os.getcwd()\n",
        "file_name = 'GoogleNews-vectors-negative300.zip.gz'\n",
        "pretrained_path = path + '/' + file_name"
      ]
    },
    {
      "cell_type": "markdown",
      "metadata": {
        "id": "njRGBVo-bVSo"
      },
      "source": [
        "<font size = 5 color = pwdrblue> <b> Load the model"
      ]
    },
    {
      "cell_type": "code",
      "execution_count": 11,
      "metadata": {
        "id": "7ceqoIwsbVSo",
        "tags": []
      },
      "outputs": [],
      "source": [
        "w2v_model = KeyedVectors.load_word2vec_format(pretrained_path, binary=True) #load the model"
      ]
    },
    {
      "cell_type": "markdown",
      "metadata": {
        "id": "PKLHtMpPbVSp"
      },
      "source": [
        "<font size = 5 color = pwdrblue> <b> Check number of words in vocabulary"
      ]
    },
    {
      "cell_type": "code",
      "execution_count": 12,
      "metadata": {
        "id": "HE4PlWlBbVSp",
        "tags": [],
        "colab": {
          "base_uri": "https://localhost:8080/"
        },
        "outputId": "f74f60df-c572-4b40-df11-67846adafb7c"
      },
      "outputs": [
        {
          "output_type": "stream",
          "name": "stdout",
          "text": [
            "Number of words in vocabulary:  3000000\n"
          ]
        }
      ],
      "source": [
        "print(\"Number of words in vocabulary: \",len(w2v_model.index_to_key)) #Number of words in the vocabulary."
      ]
    },
    {
      "cell_type": "code",
      "execution_count": 13,
      "metadata": {
        "id": "zHa5kXYCbVSp",
        "outputId": "d459298d-54bc-446d-cfc7-916b8a13bb9c",
        "tags": [],
        "colab": {
          "base_uri": "https://localhost:8080/"
        }
      },
      "outputs": [
        {
          "output_type": "stream",
          "name": "stdout",
          "text": [
            "First few words of the vocabulary :\n",
            "['</s>', 'in', 'for', 'that', 'is', 'on', '##', 'The', 'with', 'said', 'was', 'the', 'at', 'not', 'as', 'it', 'be', 'from', 'by', 'are']\n"
          ]
        }
      ],
      "source": [
        "print(f\"First few words of the vocabulary :\\n{ w2v_model.index_to_key[:20]}\")"
      ]
    },
    {
      "cell_type": "markdown",
      "metadata": {
        "id": "wb-rFKMzbVSp"
      },
      "source": [
        "<font size = 5 color = pwdrblue> <b> Examine the model to extract most similar words for a given word like `joyful`, `solid`"
      ]
    },
    {
      "cell_type": "code",
      "execution_count": 14,
      "metadata": {
        "ExecuteTime": {
          "end_time": "2021-04-03T11:46:29.336184Z",
          "start_time": "2021-04-03T11:46:26.529524Z"
        },
        "id": "ZhJ_488PoPnr",
        "outputId": "424fc362-bddf-4998-b354-510907b6e1aa",
        "tags": [],
        "colab": {
          "base_uri": "https://localhost:8080/"
        }
      },
      "outputs": [
        {
          "output_type": "execute_result",
          "data": {
            "text/plain": [
              "[('joyous', 0.818248987197876),\n",
              " ('Besnik_Berisha_Pristina', 0.6848508715629578),\n",
              " ('joy', 0.6633967757225037),\n",
              " ('joyousness', 0.6440029740333557),\n",
              " ('exuberant', 0.6130944490432739),\n",
              " ('uplifting', 0.593187153339386),\n",
              " ('old_demonstrator_Juliya', 0.592427134513855),\n",
              " ('sorrowful', 0.5822992324829102),\n",
              " ('cheerful', 0.5811519026756287),\n",
              " ('indescribable_joy', 0.581040620803833)]"
            ]
          },
          "metadata": {},
          "execution_count": 14
        }
      ],
      "source": [
        "w2v_model.most_similar('joyful')"
      ]
    },
    {
      "cell_type": "code",
      "execution_count": 15,
      "metadata": {
        "ExecuteTime": {
          "end_time": "2021-04-03T11:46:29.509126Z",
          "start_time": "2021-04-03T11:46:29.337187Z"
        },
        "id": "G1Or5oG5oPn1",
        "outputId": "7b062723-fc1b-4315-dff8-486d462bf795",
        "tags": [],
        "colab": {
          "base_uri": "https://localhost:8080/"
        }
      },
      "outputs": [
        {
          "output_type": "execute_result",
          "data": {
            "text/plain": [
              "[('travel', 0.6577276587486267),\n",
              " ('Adventure_Travel', 0.636359453201294),\n",
              " ('Travel_Agent', 0.608870804309845),\n",
              " ('Aol_Autos', 0.5961860418319702),\n",
              " ('Destinations', 0.5935966968536377),\n",
              " ('Vacations', 0.5759146213531494),\n",
              " ('Vantage_Deluxe', 0.573976993560791),\n",
              " ('Travel_Destinations', 0.5731626152992249),\n",
              " ('Travel_Agents', 0.5724309086799622),\n",
              " ('Escorted_Tours', 0.557145893573761)]"
            ]
          },
          "metadata": {},
          "execution_count": 15
        }
      ],
      "source": [
        "w2v_model.most_similar('Travel')"
      ]
    },
    {
      "cell_type": "code",
      "execution_count": 17,
      "metadata": {
        "id": "ojZH2zXjbVSq",
        "outputId": "3246e881-4607-471c-a144-578aff223c5b",
        "tags": [],
        "colab": {
          "base_uri": "https://localhost:8080/"
        }
      },
      "outputs": [
        {
          "output_type": "execute_result",
          "data": {
            "text/plain": [
              "[('traveling', 0.6823130249977112),\n",
              " ('Travel', 0.6577276587486267),\n",
              " ('travelers', 0.5849088430404663),\n",
              " ('trips', 0.5770835280418396),\n",
              " ('travels', 0.5704988241195679),\n",
              " ('trip', 0.569098174571991),\n",
              " ('journeys', 0.5535728335380554),\n",
              " ('airfare', 0.5398489832878113),\n",
              " ('Travelling', 0.5369202494621277),\n",
              " ('Traveling', 0.5305294394493103)]"
            ]
          },
          "metadata": {},
          "execution_count": 17
        }
      ],
      "source": [
        "w2v_model.most_similar('travel')"
      ]
    },
    {
      "cell_type": "markdown",
      "metadata": {
        "id": "ABtIhX08bVSr"
      },
      "source": [
        "<div class=\"alert alert-block alert-success\">\n",
        "<font size = 4>\n",
        "    \n",
        "<center><b> Error occurred because the word is not present in the vocabulary.</b>\n"
      ]
    },
    {
      "cell_type": "markdown",
      "metadata": {
        "id": "H2Vy8qR8bVSr"
      },
      "source": [
        "<font size = 5 color = seagreen> <b> The below snippet can be used to manage the error and check similarity for multiple words:"
      ]
    },
    {
      "cell_type": "code",
      "execution_count": 19,
      "metadata": {
        "id": "Q_Wk89c0bVSr",
        "outputId": "77b37ffd-a779-4b9d-f73d-445b209dc989",
        "tags": [],
        "colab": {
          "base_uri": "https://localhost:8080/"
        }
      },
      "outputs": [
        {
          "name": "stdout",
          "output_type": "stream",
          "text": [
            "Enter a word to get similar words: negative\n",
            "Most similar words to 'negative' :\n",
            "\n",
            "('positive', 0.7586989998817444)\n",
            "('Negative', 0.6747699975967407)\n",
            "('postive', 0.607062816619873)\n",
            "('negatively', 0.5929017663002014)\n",
            "('Inaccurate_portrayals', 0.544945240020752)\n",
            "('unfavorable', 0.5436848402023315)\n",
            "('Positive', 0.5394940376281738)\n",
            "('positve', 0.5383689999580383)\n",
            "('negativity', 0.5172534584999084)\n",
            "('Incurring_debt', 0.5085647702217102)\n",
            "\n",
            "\n",
            "Do you want to continue? (Y/N) : No\n"
          ]
        }
      ],
      "source": [
        "inp = \"y\"\n",
        "while inp.lower() == 'y':\n",
        "    word = input(\"Enter a word to get similar words: \")\n",
        "    try :\n",
        "        print(f\"Most similar words to '{word}' :\\n\")\n",
        "        for t in w2v_model.most_similar(word):\n",
        "            print(t)\n",
        "        print('\\n')\n",
        "    except :\n",
        "        print('Word does not exists in vocabulary!')\n",
        "    inp = input(\"Do you want to continue? (Y/N) : \")\n"
      ]
    },
    {
      "cell_type": "markdown",
      "metadata": {
        "id": "X9qhi6UmbVSr",
        "tags": []
      },
      "source": [
        "<font size = 5 color = pwdrblue> <b>  Get the word vector of any term"
      ]
    },
    {
      "cell_type": "code",
      "execution_count": 20,
      "metadata": {
        "ExecuteTime": {
          "end_time": "2021-04-03T11:46:30.275722Z",
          "start_time": "2021-04-03T11:46:30.266713Z"
        },
        "id": "rtQiYOR9oPn_",
        "outputId": "2bc507b6-c546-49ad-a1b5-789d1e6b86ec",
        "tags": [],
        "colab": {
          "base_uri": "https://localhost:8080/"
        }
      },
      "outputs": [
        {
          "output_type": "execute_result",
          "data": {
            "text/plain": [
              "array([-0.01831055,  0.05566406, -0.01153564,  0.07275391,  0.15136719,\n",
              "       -0.06176758,  0.20605469, -0.15332031, -0.05908203,  0.22851562,\n",
              "       -0.06445312, -0.22851562, -0.09472656, -0.03344727,  0.24707031,\n",
              "        0.05541992, -0.00921631,  0.1328125 , -0.15429688,  0.08105469,\n",
              "       -0.07373047,  0.24316406,  0.12353516, -0.09277344,  0.08203125,\n",
              "        0.06494141,  0.15722656,  0.11279297, -0.0612793 , -0.296875  ,\n",
              "       -0.13378906,  0.234375  ,  0.09765625,  0.17773438,  0.06689453,\n",
              "       -0.27539062,  0.06445312, -0.13867188, -0.08886719,  0.171875  ,\n",
              "        0.07861328, -0.10058594,  0.23925781,  0.03808594,  0.18652344,\n",
              "       -0.11279297,  0.22558594,  0.10986328, -0.11865234,  0.02026367,\n",
              "        0.11376953,  0.09570312,  0.29492188,  0.08251953, -0.05444336,\n",
              "       -0.0090332 , -0.0625    , -0.17578125, -0.08154297,  0.01062012,\n",
              "       -0.04736328, -0.08544922, -0.19042969, -0.30273438,  0.07617188,\n",
              "        0.125     , -0.05932617,  0.03833008, -0.03564453,  0.2421875 ,\n",
              "        0.36132812,  0.04760742,  0.00631714, -0.03088379, -0.13964844,\n",
              "        0.22558594, -0.06298828, -0.02636719,  0.1171875 ,  0.33398438,\n",
              "       -0.07666016, -0.06689453,  0.04150391, -0.15136719, -0.22460938,\n",
              "        0.03320312, -0.15332031,  0.07128906,  0.16992188,  0.11572266,\n",
              "       -0.13085938,  0.12451172, -0.20410156,  0.04736328, -0.296875  ,\n",
              "       -0.17480469,  0.00872803, -0.04638672,  0.10791016, -0.203125  ,\n",
              "       -0.27539062,  0.2734375 ,  0.02563477, -0.11035156,  0.0625    ,\n",
              "        0.1953125 ,  0.16015625, -0.13769531, -0.09863281, -0.1953125 ,\n",
              "       -0.22851562,  0.25390625,  0.00915527, -0.03857422,  0.3984375 ,\n",
              "       -0.1796875 ,  0.03833008, -0.24804688,  0.03515625,  0.03881836,\n",
              "        0.03442383, -0.04101562,  0.20214844, -0.03015137, -0.09619141,\n",
              "        0.11669922, -0.06738281,  0.0625    ,  0.10742188,  0.25585938,\n",
              "       -0.21777344,  0.05639648, -0.0065918 ,  0.16113281,  0.11865234,\n",
              "       -0.03088379, -0.11572266,  0.02685547,  0.03100586,  0.09863281,\n",
              "        0.05883789,  0.00634766,  0.11914062,  0.07324219, -0.01586914,\n",
              "        0.18457031,  0.05322266,  0.19824219, -0.22363281, -0.25195312,\n",
              "        0.15039062,  0.22753906,  0.05737305,  0.16992188, -0.22558594,\n",
              "        0.06494141,  0.11914062, -0.06640625, -0.10449219, -0.07226562,\n",
              "       -0.16992188,  0.0625    ,  0.14648438,  0.27148438, -0.02172852,\n",
              "       -0.12695312,  0.18457031, -0.27539062, -0.36523438, -0.03491211,\n",
              "       -0.18554688,  0.23828125, -0.13867188,  0.00296021,  0.04272461,\n",
              "        0.13867188,  0.12207031,  0.05957031, -0.22167969, -0.18945312,\n",
              "       -0.23242188, -0.28710938, -0.00866699, -0.16113281, -0.24316406,\n",
              "        0.05712891, -0.06982422,  0.00053406, -0.10302734, -0.13378906,\n",
              "       -0.16113281,  0.11621094,  0.31640625, -0.02697754, -0.01574707,\n",
              "        0.11425781, -0.04174805,  0.05908203,  0.02661133, -0.08642578,\n",
              "        0.140625  ,  0.09228516, -0.25195312, -0.31445312, -0.05688477,\n",
              "        0.01031494,  0.0234375 , -0.02331543, -0.08056641,  0.01269531,\n",
              "       -0.34179688,  0.17285156, -0.16015625,  0.07763672, -0.03088379,\n",
              "        0.11962891,  0.11767578,  0.20117188, -0.01940918,  0.02172852,\n",
              "        0.23046875,  0.28125   , -0.17675781,  0.02978516,  0.08740234,\n",
              "       -0.06176758,  0.00939941, -0.09277344, -0.203125  ,  0.13085938,\n",
              "       -0.13671875, -0.00500488, -0.04296875,  0.12988281,  0.3515625 ,\n",
              "        0.0402832 , -0.12988281, -0.03173828,  0.28515625,  0.18261719,\n",
              "        0.13867188, -0.16503906, -0.26171875, -0.04345703,  0.0100708 ,\n",
              "        0.08740234,  0.00421143, -0.1328125 , -0.17578125, -0.04321289,\n",
              "       -0.015625  ,  0.16894531,  0.25      ,  0.37109375,  0.19921875,\n",
              "       -0.36132812, -0.10302734, -0.20800781, -0.20117188, -0.01519775,\n",
              "       -0.12207031, -0.12011719, -0.07421875, -0.04345703,  0.14160156,\n",
              "        0.15527344, -0.03027344, -0.09326172, -0.04589844,  0.16796875,\n",
              "       -0.03027344,  0.09179688, -0.10058594,  0.20703125,  0.11376953,\n",
              "       -0.12402344,  0.04003906,  0.06933594, -0.34570312,  0.03881836,\n",
              "        0.16210938,  0.05761719, -0.12792969, -0.05810547,  0.03857422,\n",
              "       -0.11328125, -0.1953125 , -0.28125   , -0.13183594,  0.15722656,\n",
              "       -0.09765625,  0.09619141, -0.09960938, -0.00285339, -0.03637695,\n",
              "        0.15429688,  0.06152344, -0.34570312,  0.11083984,  0.03344727],\n",
              "      dtype=float32)"
            ]
          },
          "metadata": {},
          "execution_count": 20
        }
      ],
      "source": [
        "w2v_model['beautiful']"
      ]
    },
    {
      "cell_type": "markdown",
      "metadata": {
        "id": "S8BIHwnvbVSr"
      },
      "source": [
        "<font size = 5 color = pwdrblue> <b>  Get the embeddings for a complete text"
      ]
    },
    {
      "cell_type": "markdown",
      "metadata": {
        "id": "WLtL5qIHFVl-"
      },
      "source": [
        "<div class=\"alert alert-block alert-success\">\n",
        "<font size = 4>\n",
        "    \n",
        "- A simple way is to just sum or average the embeddings for individual words.\n",
        "- Let us see a small example using another NLP library Spacy"
      ]
    },
    {
      "cell_type": "markdown",
      "metadata": {
        "tags": [],
        "id": "FnleQzlhFVl-"
      },
      "source": [
        "[top](#w0)"
      ]
    },
    {
      "cell_type": "markdown",
      "metadata": {
        "id": "gKVD-NWRbVSs"
      },
      "source": [
        " ##### <a id = 'w3'>\n",
        "<font size = 10 color = 'midnightblue'> <b> Load the embedding model"
      ]
    },
    {
      "cell_type": "code",
      "execution_count": 21,
      "metadata": {
        "id": "OVkHPOxSbVSs",
        "tags": []
      },
      "outputs": [],
      "source": [
        "# Load the english embedding\n",
        "nlp = spacy.load('en_core_web_md')"
      ]
    },
    {
      "cell_type": "code",
      "execution_count": 22,
      "metadata": {
        "id": "Axetn20PbVSs",
        "outputId": "ca77a7f4-0c63-491b-fa9c-8db24d039b00",
        "tags": [],
        "colab": {
          "base_uri": "https://localhost:8080/"
        }
      },
      "outputs": [
        {
          "output_type": "stream",
          "name": "stdout",
          "text": [
            "[-2.88833928e+00 -1.73949754e+00 -1.43964255e+00  1.20811331e+00\n",
            "  5.13780832e+00 -1.30674643e-02  7.21087217e-01  3.04970646e+00\n",
            " -1.84638822e+00 -2.22266102e+00  4.68991232e+00  2.61828923e+00\n",
            " -4.52669907e+00  1.26645672e+00 -2.34535038e-01  2.95858502e+00\n",
            "  2.32375741e+00  3.09238362e+00 -2.10459971e+00 -2.37954974e+00\n",
            "  1.66396189e+00  1.19737089e+00 -2.69254231e+00 -6.14912510e-01\n",
            " -1.08377755e+00 -2.53180766e+00 -8.91990006e-01 -2.05081487e+00\n",
            "  1.18648148e+00 -1.64304212e-01 -6.91387177e-01 -3.24216664e-01\n",
            "  9.49795187e-01 -4.35991287e-02 -1.66022158e+00 -1.46512663e+00\n",
            "  1.34241199e+00  2.41495681e+00 -1.01387584e+00 -7.52867520e-01\n",
            "  1.03934491e+00 -4.46677536e-01 -1.66344082e+00  1.26216695e-01\n",
            " -1.90512753e+00 -7.97698975e-01 -2.97492743e-03 -1.90645266e+00\n",
            "  1.40009150e-01  3.15768272e-01 -2.23950672e+00  2.10762620e+00\n",
            "  2.52927512e-01 -4.42820024e+00  2.02550087e-02  1.65891302e+00\n",
            " -1.52912760e+00  1.03578997e+00  1.68434843e-01 -1.34021425e+00\n",
            "  2.11976314e+00  2.33547509e-01 -5.91672540e-01  3.44210863e-01\n",
            "  3.95403290e+00  9.04955924e-01 -1.13671255e+00 -3.52061391e+00\n",
            "  1.02786338e+00  1.72737420e+00 -3.45281452e-01  4.13599879e-01\n",
            " -1.38410413e+00  1.42385036e-01 -1.52772427e+00 -6.10434175e-01\n",
            " -2.58672261e+00  1.59511757e+00 -1.79973900e+00  4.77089971e-01\n",
            " -4.07344961e+00 -1.01971531e+00 -1.39011824e+00  1.52568972e+00\n",
            "  1.20330083e+00 -1.39179543e-01 -2.90639973e+00 -3.27361703e+00\n",
            "  2.41813016e+00 -4.71612424e-01 -1.38961828e+00 -6.08251631e-01\n",
            "  2.38481522e+00 -3.34532666e+00 -5.62524140e-01 -6.85505867e-01\n",
            "  1.36712325e+00 -4.28124934e-01  1.37996924e+00  2.38556004e+00\n",
            "  3.65914130e+00  4.35096830e-01  2.59805369e+00  4.14792061e+00\n",
            "  8.83295536e-01  4.53300810e+00  3.91203314e-01 -2.07602048e+00\n",
            "  5.36738932e-01 -3.51321912e+00  2.21518826e+00  5.25049090e-01\n",
            " -3.06595492e+00 -3.28218460e-01  2.56989837e+00  4.83230859e-01\n",
            " -9.76590812e-01 -1.09728587e+00 -7.37279117e-01 -4.22520828e+00\n",
            " -1.33168900e+00 -4.09187460e+00  2.16919541e+00 -5.14523327e-01\n",
            " -4.37047571e-01 -3.53986001e+00  1.65180194e+00 -4.12152767e+00\n",
            "  2.91768742e+00 -2.41069245e+00 -3.77711129e+00  1.50382853e+00\n",
            "  4.06921721e+00 -2.23918319e-01 -1.52941406e+00 -4.50115591e-01\n",
            " -2.97234321e+00 -1.53033412e+00  1.05664086e+00  3.12874079e-01\n",
            " -4.23465818e-01 -7.69389927e-01 -1.07433069e+00 -2.10773692e-01\n",
            "  2.89689612e+00  1.44264925e+00 -2.52275276e+00 -5.51315010e-01\n",
            "  2.95418262e+00  3.18151593e+00  1.41752672e+00  1.96669912e+00\n",
            "  4.33316827e-02  1.44812346e+00 -2.89382005e+00  2.05664325e+00\n",
            "  2.67180157e+00 -9.58328903e-01 -3.40732551e+00 -2.95428085e+00\n",
            " -9.78773355e-01 -1.17408836e+00  1.89355421e+00  2.00203156e+00\n",
            " -1.99982488e+00 -2.59695101e+00 -3.24825931e+00  1.03908825e+00\n",
            "  6.57224119e-01  2.36186698e-01 -1.36814594e+00 -1.48727798e+00\n",
            "  1.72845924e+00  5.37544966e-01  2.79125094e+00  1.72252166e+00\n",
            "  6.44646406e-01 -1.13074648e+00 -3.54710007e+00 -1.82875741e+00\n",
            " -2.90251422e+00 -4.13852543e-01  3.96108627e-02 -2.13365579e+00\n",
            " -1.30943835e+00  4.35707837e-01 -1.21258914e+00  1.03145614e-02\n",
            " -1.35753500e+00 -1.54999895e-02 -1.39348459e+00 -2.94356084e+00\n",
            " -7.01424479e-03 -1.98917925e+00  1.42131841e+00  1.10463083e+00\n",
            " -4.22376251e+00 -7.56560802e-01  1.53536606e+00 -1.84763324e+00\n",
            " -1.40829659e+00 -1.11943257e+00  8.78450334e-01  4.47949171e-02\n",
            "  3.66824818e+00 -7.69747272e-02 -5.11397505e+00  2.52032161e+00\n",
            " -1.81604221e-01 -2.98985839e-01  6.86665356e-01  1.31516087e+00\n",
            " -1.79271114e+00  1.35345161e+00  5.79842567e-01  2.17884231e+00\n",
            "  1.91880834e+00 -3.75217366e+00 -3.88690859e-01  1.84023380e+00\n",
            " -1.47271168e+00  2.81686759e+00 -9.66142476e-01 -1.14133628e-02\n",
            " -9.96072352e-01 -7.37137496e-01  1.54670250e+00  2.58158994e+00\n",
            "  1.04458749e+00 -1.04785252e+00  4.07601404e+00 -2.19403458e+00\n",
            " -2.26443505e+00  2.34906769e+00  3.99445033e+00 -1.19630098e-01\n",
            " -2.54763246e+00 -4.55938987e-02 -5.61336815e-01 -4.88166921e-02\n",
            " -1.05537260e+00 -1.35508680e+00  2.09068611e-01 -1.07195091e+00\n",
            " -3.00938606e+00  8.22420061e-01 -3.15799689e+00  9.05065119e-01\n",
            " -1.04496837e+00  3.13359165e+00  1.21945632e+00 -2.48805070e+00\n",
            " -3.58519745e+00 -2.38401711e-01  8.64653766e-01 -2.64550304e+00\n",
            "  2.72262859e+00 -6.47254229e-01  7.57790864e-01  5.91790020e-01\n",
            " -1.10619581e+00  4.12727833e+00  3.37713695e+00  2.24938321e+00\n",
            "  2.31127524e+00 -3.99277568e-01 -4.11633343e-01  2.27968025e+00\n",
            "  5.74094057e-02  9.46934987e-03  4.56398338e-01 -1.05068076e+00\n",
            "  2.01276088e+00 -8.54541585e-02 -2.37687483e-01 -5.06431639e-01\n",
            "  1.92235839e+00 -1.47011662e+00 -3.84029180e-01 -9.73020419e-02\n",
            "  2.44558978e+00  1.03057086e+00  1.07754147e+00  2.28409815e+00\n",
            "  1.52340698e+00 -1.83836591e+00 -1.53605652e+00  2.51869416e+00\n",
            " -1.73785007e+00  1.43793249e+00  4.27944928e-01 -5.68059921e-01\n",
            " -2.00962758e+00 -8.14376652e-01 -1.50480700e+00  4.54959154e-01\n",
            "  3.17758732e-02 -3.61348414e+00 -6.93890393e-01  2.21340394e+00]\n"
          ]
        }
      ],
      "source": [
        "# Create a model object\n",
        "mydoc = nlp(\"Artificial intelligence revolutionizes industries by enhancing automation and decision-making.\")\n",
        "\n",
        "# Get the averaged vector for the entire sentence\n",
        "print(mydoc.vector)"
      ]
    }
  ],
  "metadata": {
    "colab": {
      "provenance": [],
      "gpuType": "T4"
    },
    "kernelspec": {
      "display_name": "Python 3",
      "name": "python3"
    },
    "language_info": {
      "codemirror_mode": {
        "name": "ipython",
        "version": 3
      },
      "file_extension": ".py",
      "mimetype": "text/x-python",
      "name": "python",
      "nbconvert_exporter": "python",
      "pygments_lexer": "ipython3",
      "version": "3.11.5"
    },
    "accelerator": "GPU"
  },
  "nbformat": 4,
  "nbformat_minor": 0
}